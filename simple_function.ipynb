{
 "cells": [
  {
   "cell_type": "markdown",
   "id": "f6fe4f9a-7c09-4ed1-80bc-273076845293",
   "metadata": {},
   "source": [
    "# How to create function in python? \n",
    "It is really simple! "
   ]
  },
  {
   "cell_type": "markdown",
   "id": "ea4b80fc-e40d-4f91-a151-8eec8c727826",
   "metadata": {},
   "source": [
    "# 1\n",
    "We need to define function within the name"
   ]
  },
  {
   "cell_type": "code",
   "execution_count": 2,
   "id": "bfdacc01-c7a8-4405-9970-39c670f80dfc",
   "metadata": {},
   "outputs": [
    {
     "ename": "SyntaxError",
     "evalue": "incomplete input (1500384890.py, line 1)",
     "output_type": "error",
     "traceback": [
      "\u001b[0;36m  Cell \u001b[0;32mIn[2], line 1\u001b[0;36m\u001b[0m\n\u001b[0;31m    def add_two_and_two():\u001b[0m\n\u001b[0m                          ^\u001b[0m\n\u001b[0;31mSyntaxError\u001b[0m\u001b[0;31m:\u001b[0m incomplete input\n"
     ]
    }
   ],
   "source": [
    "def add_two_and_two():"
   ]
  },
  {
   "cell_type": "markdown",
   "id": "47856221-826b-44fa-94db-fc42dad9c5bb",
   "metadata": {},
   "source": [
    "this will define our function"
   ]
  },
  {
   "cell_type": "markdown",
   "id": "5a0031bf-e623-408a-aac1-adaf3aaef767",
   "metadata": {},
   "source": [
    "# 2 \n",
    "We need to define what our function needs to do"
   ]
  },
  {
   "cell_type": "code",
   "execution_count": null,
   "id": "a858578e-a2cc-4cc7-a1c6-fd4ee3970523",
   "metadata": {},
   "outputs": [],
   "source": [
    "result = 2 + 2"
   ]
  },
  {
   "cell_type": "markdown",
   "id": "0ad59cfb-6e81-440d-8ca2-abaaeb35a5d3",
   "metadata": {},
   "source": [
    "This will add 2 and 2"
   ]
  },
  {
   "cell_type": "markdown",
   "id": "0ea80677-8b03-451f-a412-ca12d2abe52e",
   "metadata": {},
   "source": [
    "# 3\n",
    "Now we need to pull out our \"result\""
   ]
  },
  {
   "cell_type": "code",
   "execution_count": null,
   "id": "c7806c63-3e23-4dc8-a816-79f8cbd4f92e",
   "metadata": {},
   "outputs": [],
   "source": [
    "return result"
   ]
  },
  {
   "cell_type": "markdown",
   "id": "76d34537-8d67-4582-ae66-3cf45b3e5cad",
   "metadata": {},
   "source": [
    "if we want to run function we need to call it with \"()\" and if we want to show our result we need to print it out"
   ]
  },
  {
   "cell_type": "code",
   "execution_count": null,
   "id": "20491518-f3cd-4f3d-b3b6-6beac487fe79",
   "metadata": {},
   "outputs": [],
   "source": [
    "add_two_and_two()\n",
    "print(add_two_and_two())"
   ]
  },
  {
   "cell_type": "markdown",
   "id": "55ff3eaf-987c-4845-8a14-0020fbdc54a9",
   "metadata": {},
   "source": [
    "# 4 \n",
    "So full function looks like this: "
   ]
  },
  {
   "cell_type": "code",
   "execution_count": null,
   "id": "60d217d1-7d3e-46d8-be18-445342a6a9ab",
   "metadata": {},
   "outputs": [],
   "source": [
    "def add_two_and_two():\n",
    "result = 2 + 2\n",
    "return result\n",
    "\n",
    "add_two_and_two()\n",
    "\n",
    "print(add_two_and_two())"
   ]
  }
 ],
 "metadata": {
  "kernelspec": {
   "display_name": "Python 3 (ipykernel)",
   "language": "python",
   "name": "python3"
  },
  "language_info": {
   "codemirror_mode": {
    "name": "ipython",
    "version": 3
   },
   "file_extension": ".py",
   "mimetype": "text/x-python",
   "name": "python",
   "nbconvert_exporter": "python",
   "pygments_lexer": "ipython3",
   "version": "3.11.3"
  }
 },
 "nbformat": 4,
 "nbformat_minor": 5
}
